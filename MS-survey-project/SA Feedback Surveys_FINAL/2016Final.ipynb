{
 "cells": [
  {
   "cell_type": "code",
   "execution_count": 90,
   "metadata": {
    "collapsed": true
   },
   "outputs": [],
   "source": [
    "import numpy as np\n",
    "import pandas as pd\n",
    "import matplotlib.pyplot as plt\n",
    "import scipy.stats as st\n",
    "import glob as glob, os\n",
    "%matplotlib inline"
   ]
  },
  {
   "cell_type": "code",
   "execution_count": 91,
   "metadata": {},
   "outputs": [
    {
     "data": {
      "text/html": [
       "<div>\n",
       "<style>\n",
       "    .dataframe thead tr:only-child th {\n",
       "        text-align: right;\n",
       "    }\n",
       "\n",
       "    .dataframe thead th {\n",
       "        text-align: left;\n",
       "    }\n",
       "\n",
       "    .dataframe tbody tr th {\n",
       "        vertical-align: top;\n",
       "    }\n",
       "</style>\n",
       "<table border=\"1\" class=\"dataframe\">\n",
       "  <thead>\n",
       "    <tr style=\"text-align: right;\">\n",
       "      <th></th>\n",
       "      <th>Tutorial Pace</th>\n",
       "      <th>Rating</th>\n",
       "      <th>Location</th>\n",
       "      <th>Timestamp</th>\n",
       "      <th>Week</th>\n",
       "      <th>Track</th>\n",
       "    </tr>\n",
       "  </thead>\n",
       "  <tbody>\n",
       "    <tr>\n",
       "      <th>0</th>\n",
       "      <td>3</td>\n",
       "      <td>3</td>\n",
       "      <td>Taipei</td>\n",
       "      <td>8/5/2016 1:39:41</td>\n",
       "      <td>7</td>\n",
       "      <td>NaN</td>\n",
       "    </tr>\n",
       "    <tr>\n",
       "      <th>1</th>\n",
       "      <td>3</td>\n",
       "      <td>4</td>\n",
       "      <td>Taipei</td>\n",
       "      <td>8/5/2016 1:40:47</td>\n",
       "      <td>7</td>\n",
       "      <td>NaN</td>\n",
       "    </tr>\n",
       "    <tr>\n",
       "      <th>2</th>\n",
       "      <td>3</td>\n",
       "      <td>4</td>\n",
       "      <td>Taipei</td>\n",
       "      <td>8/5/2016 1:40:50</td>\n",
       "      <td>7</td>\n",
       "      <td>NaN</td>\n",
       "    </tr>\n",
       "    <tr>\n",
       "      <th>3</th>\n",
       "      <td>4</td>\n",
       "      <td>4</td>\n",
       "      <td>Taipei</td>\n",
       "      <td>8/5/2016 1:42:44</td>\n",
       "      <td>7</td>\n",
       "      <td>NaN</td>\n",
       "    </tr>\n",
       "    <tr>\n",
       "      <th>4</th>\n",
       "      <td>4</td>\n",
       "      <td>5</td>\n",
       "      <td>Taipei</td>\n",
       "      <td>8/5/2016 1:45:13</td>\n",
       "      <td>7</td>\n",
       "      <td>NaN</td>\n",
       "    </tr>\n",
       "  </tbody>\n",
       "</table>\n",
       "</div>"
      ],
      "text/plain": [
       "  Tutorial Pace Rating Location         Timestamp Week Track\n",
       "0             3      3   Taipei  8/5/2016 1:39:41    7   NaN\n",
       "1             3      4   Taipei  8/5/2016 1:40:47    7   NaN\n",
       "2             3      4   Taipei  8/5/2016 1:40:50    7   NaN\n",
       "3             4      4   Taipei  8/5/2016 1:42:44    7   NaN\n",
       "4             4      5   Taipei  8/5/2016 1:45:13    7   NaN"
      ]
     },
     "execution_count": 91,
     "metadata": {},
     "output_type": "execute_result"
    }
   ],
   "source": [
    "dfs = []\n",
    "\n",
    "for files in glob.glob('2016/Anon Week ? Feedback - *.csv'):\n",
    "    frame = pd.read_csv(files)\n",
    "    frame['Week'] = os.path.basename(files[15])\n",
    "    frame['Location'] = os.path.basename(files[28:-4])\n",
    "    dfs.append(frame)\n",
    "\n",
    "dframe_2016 = pd.concat(dfs, ignore_index = True)\n",
    "\n",
    "dframe_2016.columns = ['Tutorial Pace', 'Schedule Pace', 'Rating', 'Location', 'Timestamp', 'Unnamed:0', 'Week', 'Track']\n",
    "Pacing = dframe_2016['Tutorial Pace'].fillna(dframe_2016['Schedule Pace'])\n",
    "dframe_2016['Tutorial Pace'] = Pacing\n",
    "dframe_2016 = dframe_2016.drop(['Schedule Pace', 'Unnamed:0'], 1)\n",
    "dframe_2016['Tutorial Pace'] = dframe_2016['Tutorial Pace'].replace(['2'], 2).replace(['3'], 3).replace(['4'], 4).replace(['5'], 5)\n",
    "dframe_2016.head()"
   ]
  },
  {
   "cell_type": "code",
   "execution_count": 92,
   "metadata": {
    "collapsed": true
   },
   "outputs": [],
   "source": [
    "def nps_converter(rating):\n",
    "    rating_string = np.array([])\n",
    "    for num in rating:\n",
    "        if not num == \"#REF!\" and not num =='NaN':\n",
    "            if float(num) > 4:\n",
    "                rating_string = np.append(rating_string, \"Promoter\")\n",
    "            elif float(num) > 3:\n",
    "                rating_string = np.append(rating_string, \"Passive\")\n",
    "            else:\n",
    "                rating_string = np.append(rating_string, \"Detractor\")\n",
    "        else:\n",
    "            rating_string = np.append(rating_string, \"NaN\")\n",
    "            \n",
    "    finalDF_2016 = pd.DataFrame(rating_string)\n",
    "    return finalDF_2016\n",
    "\n",
    "rating_to_convert = dframe_2016['Rating']\n",
    "dframe_2016[\"Rating\"] = nps_converter(rating_to_convert)"
   ]
  },
  {
   "cell_type": "code",
   "execution_count": 98,
   "metadata": {},
   "outputs": [
    {
     "data": {
      "text/html": [
       "<div>\n",
       "<style>\n",
       "    .dataframe thead tr:only-child th {\n",
       "        text-align: right;\n",
       "    }\n",
       "\n",
       "    .dataframe thead th {\n",
       "        text-align: left;\n",
       "    }\n",
       "\n",
       "    .dataframe tbody tr th {\n",
       "        vertical-align: top;\n",
       "    }\n",
       "</style>\n",
       "<table border=\"1\" class=\"dataframe\">\n",
       "  <thead>\n",
       "    <tr style=\"text-align: right;\">\n",
       "      <th></th>\n",
       "      <th>Tutorial Pace</th>\n",
       "      <th>Rating</th>\n",
       "      <th>Location</th>\n",
       "      <th>Timestamp</th>\n",
       "      <th>Week</th>\n",
       "      <th>Track</th>\n",
       "    </tr>\n",
       "  </thead>\n",
       "  <tbody>\n",
       "    <tr>\n",
       "      <th>0</th>\n",
       "      <td>3</td>\n",
       "      <td>Detractor</td>\n",
       "      <td>Taipei</td>\n",
       "      <td>8/5/2016 1:39:41</td>\n",
       "      <td>7</td>\n",
       "      <td>NaN</td>\n",
       "    </tr>\n",
       "    <tr>\n",
       "      <th>1</th>\n",
       "      <td>3</td>\n",
       "      <td>Passive</td>\n",
       "      <td>Taipei</td>\n",
       "      <td>8/5/2016 1:40:47</td>\n",
       "      <td>7</td>\n",
       "      <td>NaN</td>\n",
       "    </tr>\n",
       "    <tr>\n",
       "      <th>2</th>\n",
       "      <td>3</td>\n",
       "      <td>Passive</td>\n",
       "      <td>Taipei</td>\n",
       "      <td>8/5/2016 1:40:50</td>\n",
       "      <td>7</td>\n",
       "      <td>NaN</td>\n",
       "    </tr>\n",
       "    <tr>\n",
       "      <th>3</th>\n",
       "      <td>4</td>\n",
       "      <td>Passive</td>\n",
       "      <td>Taipei</td>\n",
       "      <td>8/5/2016 1:42:44</td>\n",
       "      <td>7</td>\n",
       "      <td>NaN</td>\n",
       "    </tr>\n",
       "    <tr>\n",
       "      <th>4</th>\n",
       "      <td>4</td>\n",
       "      <td>Promoter</td>\n",
       "      <td>Taipei</td>\n",
       "      <td>8/5/2016 1:45:13</td>\n",
       "      <td>7</td>\n",
       "      <td>NaN</td>\n",
       "    </tr>\n",
       "  </tbody>\n",
       "</table>\n",
       "</div>"
      ],
      "text/plain": [
       "  Tutorial Pace     Rating Location         Timestamp Week Track\n",
       "0             3  Detractor   Taipei  8/5/2016 1:39:41    7   NaN\n",
       "1             3    Passive   Taipei  8/5/2016 1:40:47    7   NaN\n",
       "2             3    Passive   Taipei  8/5/2016 1:40:50    7   NaN\n",
       "3             4    Passive   Taipei  8/5/2016 1:42:44    7   NaN\n",
       "4             4   Promoter   Taipei  8/5/2016 1:45:13    7   NaN"
      ]
     },
     "execution_count": 98,
     "metadata": {},
     "output_type": "execute_result"
    }
   ],
   "source": [
    "dframe_2016.head()"
   ]
  },
  {
   "cell_type": "code",
   "execution_count": 94,
   "metadata": {
    "collapsed": true
   },
   "outputs": [],
   "source": [
    "nps_score = []\n",
    "for i in range(1,8):\n",
    "    df_week = dframe_2016[dframe_2016[\"Week\"] == i]\n",
    "    promos = df_week[df_week[\"Rating\"] == \"Promoter\"].size\n",
    "    detracts = df_week[df_week[\"Rating\"] == \"Detractor\"].size\n",
    "    passives = df_week[df_week[\"Rating\"] == \"Passive\"].size\n",
    "    nps = (promos - detracts) / (promos + detracts + passives) * 100\n",
    "    nps_scores = np.append(nps_scores, nps)"
   ]
  },
  {
   "cell_type": "code",
   "execution_count": 99,
   "metadata": {
    "collapsed": true
   },
   "outputs": [],
   "source": [
    "appTrack = dframe_2016[dframe_2016['Track'] == 'Apps']\n",
    "gamesTrack = dframe_2016[dframe_2016['Track'] == 'Games']\n",
    "vrTrack = dframe_2016[dframe_2016['Track'] == 'VR']\n",
    "introTrack = dframe_2016[dframe_2016['Track'] == 'Intro']"
   ]
  },
  {
   "cell_type": "code",
   "execution_count": 101,
   "metadata": {
    "collapsed": true
   },
   "outputs": [],
   "source": [
    "appPromoter = len(appTrack[appTrack['Rating'] == 'Promoter'])\n",
    "gamePromoter = len(gamesTrack[gamesTrack['Rating'] == 'Promoter'])\n",
    "vrPromoter = len(vrTrack[vrTrack['Rating'] == 'Promoter'])\n",
    "introPromoter = len(introTrack[introTrack['Rating'] == 'Promoter'])\n"
   ]
  },
  {
   "cell_type": "code",
   "execution_count": 113,
   "metadata": {
    "collapsed": true
   },
   "outputs": [],
   "source": [
    "tracks = ['App', 'Games', 'VR', 'Intro']\n",
    "promoter_of_track = [appPromoter, gamePromoter, vrPromoter, introPromoter]\n",
    "track_df = pd.DataFrame({'Track' : tracks, 'Promoter' : promoter_of_track})"
   ]
  },
  {
   "cell_type": "code",
   "execution_count": 120,
   "metadata": {},
   "outputs": [
    {
     "data": {
      "text/plain": [
       "<function matplotlib.pyplot.show>"
      ]
     },
     "execution_count": 120,
     "metadata": {},
     "output_type": "execute_result"
    },
    {
     "data": {
      "image/png": "[encoded data removed]",
      "text/plain": [
       "<matplotlib.figure.Figure at 0x1a0bf9f128>"
      ]
     },
     "metadata": {},
     "output_type": "display_data"
    }
   ],
   "source": [
    "trackPlot=track_df.plot(kind='bar')\n",
    "trackPlot.set_xticklabels(track_df.Track)\n",
    "plt.xlabel('Track')\n",
    "plt.ylabel('Promoter Total')\n",
    "plt.show"
   ]
  },
  {
   "cell_type": "code",
   "execution_count": null,
   "metadata": {
    "collapsed": true
   },
   "outputs": [],
   "source": []
  },
  {
   "cell_type": "raw",
   "metadata": {},
   "source": []
  },
  {
   "cell_type": "code",
   "execution_count": null,
   "metadata": {
    "collapsed": true
   },
   "outputs": [],
   "source": []
  }
 ],
 "metadata": {
  "kernelspec": {
   "display_name": "Python 3",
   "language": "python",
   "name": "python3"
  },
  "language_info": {
   "codemirror_mode": {
    "name": "ipython",
    "version": 3
   },
   "file_extension": ".py",
   "mimetype": "text/x-python",
   "name": "python",
   "nbconvert_exporter": "python",
   "pygments_lexer": "ipython3",
   "version": "3.6.3"
  }
 },
 "nbformat": 4,
 "nbformat_minor": 2
}
