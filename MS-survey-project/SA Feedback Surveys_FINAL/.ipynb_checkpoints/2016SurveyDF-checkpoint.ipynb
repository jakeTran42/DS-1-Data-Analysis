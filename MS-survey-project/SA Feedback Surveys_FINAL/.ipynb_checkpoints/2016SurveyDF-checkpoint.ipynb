{
 "cells": [
  {
   "cell_type": "code",
   "execution_count": 5,
   "metadata": {},
   "outputs": [],
   "source": [
    "import pandas as pd\n",
    "import glob"
   ]
  },
  {
   "cell_type": "code",
   "execution_count": 11,
   "metadata": {},
   "outputs": [
    {
     "name": "stdout",
     "output_type": "stream",
     "text": [
      "2016/Anon Week 7 Feedback - Taipei.csv\n",
      "2016/Anon Week 6 Feedback - Tokyo.csv\n",
      "2016/Anon Week 1 Feedback - Singapore.csv\n",
      "2016/Anon Week 7 Feedback - LA.csv\n",
      "2016/Anon Week 4 Feedback - SF.csv\n",
      "2016/Anon Week 5 Feedback - SV.csv\n",
      "2016/Anon Week 4 Feedback - SG.csv\n",
      "2016/Anon Week 6 Feedback - NY.csv\n",
      "2016/Anon Week 5 Feedback - HK.csv\n",
      "2016/Anon Week 1 Feedback - SF.csv\n",
      "2016/Anon Week 2 Feedback - LA.csv\n",
      "2016/Anon Week 6 Feedback - Taipei.csv\n",
      "2016/Anon Week 3 Feedback - NY.csv\n",
      "2016/Anon Week 6 Feedback - LA.csv\n",
      "2016/Anon Week 5 Feedback - SF.csv\n",
      "2016/Anon Week 5 Feedback - SG.csv\n",
      "2016/Anon Week 4 Feedback - SV.csv\n",
      "2016/Anon Week 7 Feedback - NY.csv\n",
      "2016/Week 8 Feedback (2016, incomplete) - results.csv\n",
      "2016/Anon Week 3 Feedback - LA.csv\n",
      "2016/Anon Week 2 Feedback - NY.csv\n",
      "2016/Anon Week 1 Feedback - SV.csv\n",
      "2016/Anon Week 5 Feedback - LA.csv\n",
      "2016/Anon Week 6 Feedback - SF.csv\n",
      "2016/Anon Week 6 Feedback - SG.csv\n",
      "2016/Anon Week 7 Feedback - SV.csv\n",
      "2016/Anon Week 4 Feedback - NY.csv\n",
      "2016/Anon Week 3 Feedback - SF.csv\n",
      "2016/Anon Week 1 Feedback - NY.csv\n",
      "2016/Anon Week 2 Feedback - SV.csv\n",
      "2016/Anon Week 3 Feedback - SG.csv\n",
      "2016/Anon Week 4 Feedback - LA.csv\n",
      "2016/Anon Week 7 Feedback - SF.csv\n",
      "2016/Anon Week 6 Feedback - SV.csv\n",
      "2016/Anon Week 6 Feedback - HK.csv\n",
      "2016/Anon Week 5 Feedback - NY.csv\n",
      "2016/Anon Week 2 Feedback - SF.csv\n",
      "2016/Anon Week 1 Feedback - LA.csv\n",
      "2016/Anon Week 2 Feedback - SG.csv\n",
      "2016/Anon Week 3 Feedback - SV.csv\n"
     ]
    }
   ],
   "source": [
    "fileList = glob.glob('2016/*.csv')\n",
    "for files in glob.glob('2016/*.csv'):\n",
    "    print(files)"
   ]
  },
  {
   "cell_type": "code",
   "execution_count": null,
   "metadata": {
    "collapsed": true
   },
   "outputs": [],
   "source": []
  }
 ],
 "metadata": {
  "kernelspec": {
   "display_name": "Python 3",
   "language": "python",
   "name": "python3"
  },
  "language_info": {
   "codemirror_mode": {
    "name": "ipython",
    "version": 3
   },
   "file_extension": ".py",
   "mimetype": "text/x-python",
   "name": "python",
   "nbconvert_exporter": "python",
   "pygments_lexer": "ipython3",
   "version": "3.6.3"
  }
 },
 "nbformat": 4,
 "nbformat_minor": 2
}
