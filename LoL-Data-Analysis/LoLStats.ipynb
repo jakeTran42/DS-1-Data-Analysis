{
 "cells": [
  {
   "cell_type": "code",
   "execution_count": 1,
   "metadata": {
    "collapsed": true
   },
   "outputs": [],
   "source": [
    "import numpy as np\n",
    "import pandas as pd\n",
    "import matplotlib.pyplot as plt\n",
    "import seaborn as sns\n",
    "import scipy.stats as st\n",
    "import glob, os\n",
    "import operator\n",
    "from heapq import nlargest\n",
    "sns.set_style('darkgrid')\n",
    "%matplotlib inline"
   ]
  },
  {
   "cell_type": "markdown",
   "metadata": {},
   "source": [
    "# LEAGUE OF LEGEND RANKED MATCH\n",
    "\n",
    "* Can ranked matchmaking be assumed to be unbiased (or adjusted for red-side advantage)?\n",
    "* Can early lead (kills and tower) lead to late game objective gain?\n"
   ]
  },
  {
   "cell_type": "markdown",
   "metadata": {},
   "source": [
    "## Reading CSV and Cleaning up Dataset"
   ]
  },
  {
   "cell_type": "code",
   "execution_count": 2,
   "metadata": {
    "collapsed": true
   },
   "outputs": [],
   "source": [
    "stats1_df = pd.read_csv('dataset/stats1.csv')"
   ]
  },
  {
   "cell_type": "code",
   "execution_count": 3,
   "metadata": {
    "collapsed": true
   },
   "outputs": [],
   "source": [
    "champions_df = pd.read_csv('dataset/champs.csv')"
   ]
  },
  {
   "cell_type": "code",
   "execution_count": 4,
   "metadata": {
    "collapsed": true
   },
   "outputs": [],
   "source": [
    "matches_df = pd.read_csv('dataset/matches.csv')"
   ]
  },
  {
   "cell_type": "code",
   "execution_count": 5,
   "metadata": {
    "collapsed": true
   },
   "outputs": [],
   "source": [
    "players_df = pd.read_csv('dataset/participants.csv')"
   ]
  },
  {
   "cell_type": "code",
   "execution_count": 6,
   "metadata": {
    "collapsed": true
   },
   "outputs": [],
   "source": [
    "bans_df = pd.read_csv('dataset/teambans.csv')"
   ]
  },
  {
   "cell_type": "code",
   "execution_count": 7,
   "metadata": {
    "collapsed": true
   },
   "outputs": [],
   "source": [
    "team_stats_df = pd.read_csv('dataset/teamstats.csv')"
   ]
  },
  {
   "cell_type": "markdown",
   "metadata": {},
   "source": [
    "### Dropping unncessary/unknown data"
   ]
  },
  {
   "cell_type": "code",
   "execution_count": 8,
   "metadata": {
    "collapsed": true
   },
   "outputs": [],
   "source": [
    "stats = stats1_df.drop(['item1', 'item2', 'item3', 'item4', 'item5', 'item6', 'trinket'], 1)\n",
    "matches = matches_df.drop(['queueid', 'creation'], 1)\n",
    "players = players_df.drop(['ss1', 'ss2'], 1)\n",
    "bans = bans_df\n",
    "team_stats = team_stats_df\n",
    "champions = champions_df\n",
    "df=pd.DataFrame"
   ]
  },
  {
   "cell_type": "markdown",
   "metadata": {},
   "source": [
    "### Further cleaning data and replacing id columns with corresponding names of Team Side and Win Condition\n"
   ]
  },
  {
   "cell_type": "code",
   "execution_count": 9,
   "metadata": {
    "collapsed": true
   },
   "outputs": [],
   "source": [
    "matches = matches.rename(columns = {'platformid': 'region'})"
   ]
  },
  {
   "cell_type": "code",
   "execution_count": 10,
   "metadata": {
    "collapsed": true
   },
   "outputs": [],
   "source": [
    "# Function that will assign team color for red or blue\n",
    "# Function is no long neccesary bc with scaling dataset, it will slow down significantly due to append method.\n",
    "\n",
    "def assign_team_color(side):\n",
    "    \n",
    "    '''This to create an array and append new Value to an existing colm and replace existing column with it'''\n",
    "    \n",
    "    sideColor = np.array([])\n",
    "    for team in side:\n",
    "        if int(team) == 100:\n",
    "            sideColor = np.append(sideColor, \"Blue\")\n",
    "        elif int(team) == 200:\n",
    "            sideColor = np.append(sideColor, \"Red\")\n",
    "        else:\n",
    "            sideColor = np.append(sideColor, \"Nan\")\n",
    "    new_color_df = pd.DataFrame(sideColor)\n",
    "    return new_color_df"
   ]
  },
  {
   "cell_type": "code",
   "execution_count": 11,
   "metadata": {
    "collapsed": true
   },
   "outputs": [],
   "source": [
    "#Using replace method instead appending to new array save alot of time and memory.\n",
    "\n",
    "bans['teamid'] = bans['teamid'].replace([100], 'Blue').replace([200], 'Red')\n",
    "team_stats['teamid'] = team_stats['teamid'].replace([100], 'Blue').replace([200], 'Red')\n",
    "players['role'] = players['role'].replace(['DUO_CARRY'], 'ADC').replace(['DUO_SUPPORT'], 'SUPPORT')\n",
    "stats['win'] = stats['win'].replace([0], 'Defeat').replace([1], 'Victory')\n",
    "players.loc[players.role == 'ADC', 'position'] = 'ADC'\n",
    "players.loc[players.role == 'SUPPORT', 'position'] = 'SUPPORT'\n",
    "players['position'] = players['position'].replace(['BOT'], 'UNKNOWN')"
   ]
  },
  {
   "cell_type": "code",
   "execution_count": 12,
   "metadata": {},
   "outputs": [
    {
     "data": {
      "text/html": [
       "<div>\n",
       "<style>\n",
       "    .dataframe thead tr:only-child th {\n",
       "        text-align: right;\n",
       "    }\n",
       "\n",
       "    .dataframe thead th {\n",
       "        text-align: left;\n",
       "    }\n",
       "\n",
       "    .dataframe tbody tr th {\n",
       "        vertical-align: top;\n",
       "    }\n",
       "</style>\n",
       "<table border=\"1\" class=\"dataframe\">\n",
       "  <thead>\n",
       "    <tr style=\"text-align: right;\">\n",
       "      <th></th>\n",
       "      <th>matchid</th>\n",
       "      <th>teamid</th>\n",
       "      <th>championid</th>\n",
       "      <th>banturn</th>\n",
       "    </tr>\n",
       "  </thead>\n",
       "  <tbody>\n",
       "    <tr>\n",
       "      <th>0</th>\n",
       "      <td>10</td>\n",
       "      <td>Blue</td>\n",
       "      <td>11</td>\n",
       "      <td>1</td>\n",
       "    </tr>\n",
       "    <tr>\n",
       "      <th>1</th>\n",
       "      <td>10</td>\n",
       "      <td>Blue</td>\n",
       "      <td>117</td>\n",
       "      <td>3</td>\n",
       "    </tr>\n",
       "    <tr>\n",
       "      <th>2</th>\n",
       "      <td>10</td>\n",
       "      <td>Blue</td>\n",
       "      <td>120</td>\n",
       "      <td>5</td>\n",
       "    </tr>\n",
       "    <tr>\n",
       "      <th>3</th>\n",
       "      <td>10</td>\n",
       "      <td>Red</td>\n",
       "      <td>84</td>\n",
       "      <td>2</td>\n",
       "    </tr>\n",
       "    <tr>\n",
       "      <th>4</th>\n",
       "      <td>10</td>\n",
       "      <td>Red</td>\n",
       "      <td>201</td>\n",
       "      <td>4</td>\n",
       "    </tr>\n",
       "  </tbody>\n",
       "</table>\n",
       "</div>"
      ],
      "text/plain": [
       "   matchid teamid  championid  banturn\n",
       "0       10   Blue          11        1\n",
       "1       10   Blue         117        3\n",
       "2       10   Blue         120        5\n",
       "3       10    Red          84        2\n",
       "4       10    Red         201        4"
      ]
     },
     "execution_count": 12,
     "metadata": {},
     "output_type": "execute_result"
    }
   ],
   "source": [
    "bans.head()"
   ]
  },
  {
   "cell_type": "markdown",
   "metadata": {},
   "source": [
    "### Replacing Champions ID with Champion Names"
   ]
  },
  {
   "cell_type": "code",
   "execution_count": 13,
   "metadata": {},
   "outputs": [
    {
     "data": {
      "text/html": [
       "<div>\n",
       "<style>\n",
       "    .dataframe thead tr:only-child th {\n",
       "        text-align: right;\n",
       "    }\n",
       "\n",
       "    .dataframe thead th {\n",
       "        text-align: left;\n",
       "    }\n",
       "\n",
       "    .dataframe tbody tr th {\n",
       "        vertical-align: top;\n",
       "    }\n",
       "</style>\n",
       "<table border=\"1\" class=\"dataframe\">\n",
       "  <thead>\n",
       "    <tr style=\"text-align: right;\">\n",
       "      <th></th>\n",
       "      <th>name</th>\n",
       "    </tr>\n",
       "    <tr>\n",
       "      <th>id</th>\n",
       "      <th></th>\n",
       "    </tr>\n",
       "  </thead>\n",
       "  <tbody>\n",
       "    <tr>\n",
       "      <th>24</th>\n",
       "      <td>Jax</td>\n",
       "    </tr>\n",
       "    <tr>\n",
       "      <th>37</th>\n",
       "      <td>Sona</td>\n",
       "    </tr>\n",
       "    <tr>\n",
       "      <th>18</th>\n",
       "      <td>Tristana</td>\n",
       "    </tr>\n",
       "    <tr>\n",
       "      <th>110</th>\n",
       "      <td>Varus</td>\n",
       "    </tr>\n",
       "    <tr>\n",
       "      <th>114</th>\n",
       "      <td>Fiora</td>\n",
       "    </tr>\n",
       "  </tbody>\n",
       "</table>\n",
       "</div>"
      ],
      "text/plain": [
       "         name\n",
       "id           \n",
       "24        Jax\n",
       "37       Sona\n",
       "18   Tristana\n",
       "110     Varus\n",
       "114     Fiora"
      ]
     },
     "execution_count": 13,
     "metadata": {},
     "output_type": "execute_result"
    }
   ],
   "source": [
    "champions.set_index(['id'], inplace=True)\n",
    "champions.head()"
   ]
  },
  {
   "cell_type": "code",
   "execution_count": 14,
   "metadata": {
    "collapsed": true
   },
   "outputs": [],
   "source": [
    "champCols = ['championid']"
   ]
  },
  {
   "cell_type": "code",
   "execution_count": 15,
   "metadata": {
    "collapsed": true
   },
   "outputs": [],
   "source": [
    "def idToName(ID, championInfo):\n",
    "    '''This Funciton is to translate (convert) champion\n",
    "    ID to champion name in bans/players dataset columns'''\n",
    "    \n",
    "    champ = championInfo['name'][ID]\n",
    "    return champ\n",
    "    "
   ]
  },
  {
   "cell_type": "code",
   "execution_count": 16,
   "metadata": {
    "collapsed": true
   },
   "outputs": [],
   "source": [
    "#Looping through 'championid' columns inside players and bans to replace id with name\n",
    "\n",
    "for c in champCols:\n",
    "    bans[c] = bans[c].apply(lambda x: idToName(x, champions)) \n",
    "    players[c] = players[c].apply(lambda x: idToName(x, champions))\n"
   ]
  },
  {
   "cell_type": "code",
   "execution_count": 17,
   "metadata": {},
   "outputs": [
    {
     "data": {
      "text/html": [
       "<div>\n",
       "<style>\n",
       "    .dataframe thead tr:only-child th {\n",
       "        text-align: right;\n",
       "    }\n",
       "\n",
       "    .dataframe thead th {\n",
       "        text-align: left;\n",
       "    }\n",
       "\n",
       "    .dataframe tbody tr th {\n",
       "        vertical-align: top;\n",
       "    }\n",
       "</style>\n",
       "<table border=\"1\" class=\"dataframe\">\n",
       "  <thead>\n",
       "    <tr style=\"text-align: right;\">\n",
       "      <th></th>\n",
       "      <th>matchid</th>\n",
       "      <th>teamid</th>\n",
       "      <th>championid</th>\n",
       "      <th>banturn</th>\n",
       "    </tr>\n",
       "  </thead>\n",
       "  <tbody>\n",
       "    <tr>\n",
       "      <th>0</th>\n",
       "      <td>10</td>\n",
       "      <td>Blue</td>\n",
       "      <td>Master Yi</td>\n",
       "      <td>1</td>\n",
       "    </tr>\n",
       "    <tr>\n",
       "      <th>1</th>\n",
       "      <td>10</td>\n",
       "      <td>Blue</td>\n",
       "      <td>Lulu</td>\n",
       "      <td>3</td>\n",
       "    </tr>\n",
       "    <tr>\n",
       "      <th>2</th>\n",
       "      <td>10</td>\n",
       "      <td>Blue</td>\n",
       "      <td>Hecarim</td>\n",
       "      <td>5</td>\n",
       "    </tr>\n",
       "    <tr>\n",
       "      <th>3</th>\n",
       "      <td>10</td>\n",
       "      <td>Red</td>\n",
       "      <td>Akali</td>\n",
       "      <td>2</td>\n",
       "    </tr>\n",
       "    <tr>\n",
       "      <th>4</th>\n",
       "      <td>10</td>\n",
       "      <td>Red</td>\n",
       "      <td>Braum</td>\n",
       "      <td>4</td>\n",
       "    </tr>\n",
       "  </tbody>\n",
       "</table>\n",
       "</div>"
      ],
      "text/plain": [
       "   matchid teamid championid  banturn\n",
       "0       10   Blue  Master Yi        1\n",
       "1       10   Blue       Lulu        3\n",
       "2       10   Blue    Hecarim        5\n",
       "3       10    Red      Akali        2\n",
       "4       10    Red      Braum        4"
      ]
     },
     "execution_count": 17,
     "metadata": {},
     "output_type": "execute_result"
    }
   ],
   "source": [
    "bans.head()"
   ]
  },
  {
   "cell_type": "code",
   "execution_count": 18,
   "metadata": {},
   "outputs": [
    {
     "data": {
      "text/html": [
       "<div>\n",
       "<style>\n",
       "    .dataframe thead tr:only-child th {\n",
       "        text-align: right;\n",
       "    }\n",
       "\n",
       "    .dataframe thead th {\n",
       "        text-align: left;\n",
       "    }\n",
       "\n",
       "    .dataframe tbody tr th {\n",
       "        vertical-align: top;\n",
       "    }\n",
       "</style>\n",
       "<table border=\"1\" class=\"dataframe\">\n",
       "  <thead>\n",
       "    <tr style=\"text-align: right;\">\n",
       "      <th></th>\n",
       "      <th>id</th>\n",
       "      <th>win</th>\n",
       "      <th>kills</th>\n",
       "      <th>deaths</th>\n",
       "      <th>assists</th>\n",
       "      <th>largestkillingspree</th>\n",
       "      <th>largestmultikill</th>\n",
       "      <th>killingsprees</th>\n",
       "      <th>longesttimespentliving</th>\n",
       "      <th>doublekills</th>\n",
       "      <th>...</th>\n",
       "      <th>neutralminionskilled</th>\n",
       "      <th>ownjunglekills</th>\n",
       "      <th>enemyjunglekills</th>\n",
       "      <th>totcctimedealt</th>\n",
       "      <th>champlvl</th>\n",
       "      <th>pinksbought</th>\n",
       "      <th>wardsbought</th>\n",
       "      <th>wardsplaced</th>\n",
       "      <th>wardskilled</th>\n",
       "      <th>firstblood</th>\n",
       "    </tr>\n",
       "  </thead>\n",
       "  <tbody>\n",
       "    <tr>\n",
       "      <th>0</th>\n",
       "      <td>9</td>\n",
       "      <td>Defeat</td>\n",
       "      <td>6</td>\n",
       "      <td>10</td>\n",
       "      <td>1</td>\n",
       "      <td>2</td>\n",
       "      <td>2</td>\n",
       "      <td>2</td>\n",
       "      <td>643</td>\n",
       "      <td>2</td>\n",
       "      <td>...</td>\n",
       "      <td>69</td>\n",
       "      <td>42</td>\n",
       "      <td>27</td>\n",
       "      <td>610</td>\n",
       "      <td>13</td>\n",
       "      <td>0</td>\n",
       "      <td>0</td>\n",
       "      <td>10</td>\n",
       "      <td>0</td>\n",
       "      <td>0</td>\n",
       "    </tr>\n",
       "    <tr>\n",
       "      <th>1</th>\n",
       "      <td>10</td>\n",
       "      <td>Defeat</td>\n",
       "      <td>0</td>\n",
       "      <td>2</td>\n",
       "      <td>12</td>\n",
       "      <td>0</td>\n",
       "      <td>0</td>\n",
       "      <td>0</td>\n",
       "      <td>1116</td>\n",
       "      <td>0</td>\n",
       "      <td>...</td>\n",
       "      <td>1</td>\n",
       "      <td>1</td>\n",
       "      <td>0</td>\n",
       "      <td>211</td>\n",
       "      <td>14</td>\n",
       "      <td>1</td>\n",
       "      <td>0</td>\n",
       "      <td>17</td>\n",
       "      <td>3</td>\n",
       "      <td>0</td>\n",
       "    </tr>\n",
       "    <tr>\n",
       "      <th>2</th>\n",
       "      <td>11</td>\n",
       "      <td>Defeat</td>\n",
       "      <td>7</td>\n",
       "      <td>8</td>\n",
       "      <td>5</td>\n",
       "      <td>5</td>\n",
       "      <td>2</td>\n",
       "      <td>1</td>\n",
       "      <td>584</td>\n",
       "      <td>2</td>\n",
       "      <td>...</td>\n",
       "      <td>3</td>\n",
       "      <td>1</td>\n",
       "      <td>2</td>\n",
       "      <td>182</td>\n",
       "      <td>14</td>\n",
       "      <td>1</td>\n",
       "      <td>0</td>\n",
       "      <td>13</td>\n",
       "      <td>5</td>\n",
       "      <td>0</td>\n",
       "    </tr>\n",
       "    <tr>\n",
       "      <th>3</th>\n",
       "      <td>12</td>\n",
       "      <td>Defeat</td>\n",
       "      <td>5</td>\n",
       "      <td>11</td>\n",
       "      <td>2</td>\n",
       "      <td>2</td>\n",
       "      <td>1</td>\n",
       "      <td>1</td>\n",
       "      <td>300</td>\n",
       "      <td>0</td>\n",
       "      <td>...</td>\n",
       "      <td>6</td>\n",
       "      <td>6</td>\n",
       "      <td>0</td>\n",
       "      <td>106</td>\n",
       "      <td>15</td>\n",
       "      <td>0</td>\n",
       "      <td>0</td>\n",
       "      <td>3</td>\n",
       "      <td>0</td>\n",
       "      <td>0</td>\n",
       "    </tr>\n",
       "    <tr>\n",
       "      <th>4</th>\n",
       "      <td>13</td>\n",
       "      <td>Defeat</td>\n",
       "      <td>2</td>\n",
       "      <td>8</td>\n",
       "      <td>2</td>\n",
       "      <td>0</td>\n",
       "      <td>1</td>\n",
       "      <td>0</td>\n",
       "      <td>504</td>\n",
       "      <td>0</td>\n",
       "      <td>...</td>\n",
       "      <td>4</td>\n",
       "      <td>3</td>\n",
       "      <td>1</td>\n",
       "      <td>159</td>\n",
       "      <td>15</td>\n",
       "      <td>0</td>\n",
       "      <td>0</td>\n",
       "      <td>10</td>\n",
       "      <td>0</td>\n",
       "      <td>0</td>\n",
       "    </tr>\n",
       "  </tbody>\n",
       "</table>\n",
       "<p>5 rows × 49 columns</p>\n",
       "</div>"
      ],
      "text/plain": [
       "   id     win  kills  deaths  assists  largestkillingspree  largestmultikill  \\\n",
       "0   9  Defeat      6      10        1                    2                 2   \n",
       "1  10  Defeat      0       2       12                    0                 0   \n",
       "2  11  Defeat      7       8        5                    5                 2   \n",
       "3  12  Defeat      5      11        2                    2                 1   \n",
       "4  13  Defeat      2       8        2                    0                 1   \n",
       "\n",
       "   killingsprees  longesttimespentliving  doublekills     ...      \\\n",
       "0              2                     643            2     ...       \n",
       "1              0                    1116            0     ...       \n",
       "2              1                     584            2     ...       \n",
       "3              1                     300            0     ...       \n",
       "4              0                     504            0     ...       \n",
       "\n",
       "   neutralminionskilled  ownjunglekills  enemyjunglekills  totcctimedealt  \\\n",
       "0                    69              42                27             610   \n",
       "1                     1               1                 0             211   \n",
       "2                     3               1                 2             182   \n",
       "3                     6               6                 0             106   \n",
       "4                     4               3                 1             159   \n",
       "\n",
       "   champlvl  pinksbought  wardsbought  wardsplaced  wardskilled  firstblood  \n",
       "0        13            0            0           10            0           0  \n",
       "1        14            1            0           17            3           0  \n",
       "2        14            1            0           13            5           0  \n",
       "3        15            0            0            3            0           0  \n",
       "4        15            0            0           10            0           0  \n",
       "\n",
       "[5 rows x 49 columns]"
      ]
     },
     "execution_count": 18,
     "metadata": {},
     "output_type": "execute_result"
    }
   ],
   "source": [
    "stats.head()"
   ]
  },
  {
   "cell_type": "markdown",
   "metadata": {},
   "source": [
    "### Sorting clean data and then plotting some visual to pick/bans and team stats."
   ]
  },
  {
   "cell_type": "code",
   "execution_count": 19,
   "metadata": {
    "collapsed": true
   },
   "outputs": [],
   "source": [
    "sortedChampPick = sorted(players['championid'])\n",
    "sortedChampBan = sorted(bans['championid'])"
   ]
  },
  {
   "cell_type": "code",
   "execution_count": 20,
   "metadata": {},
   "outputs": [
    {
     "data": {
      "text/plain": [
       "['Lee Sin',\n",
       " 'Caitlyn',\n",
       " 'Lucian',\n",
       " 'Thresh',\n",
       " 'Ahri',\n",
       " 'Vayne',\n",
       " 'Yasuo',\n",
       " 'Xayah',\n",
       " 'Orianna',\n",
       " 'Ezreal']"
      ]
     },
     "execution_count": 20,
     "metadata": {},
     "output_type": "execute_result"
    }
   ],
   "source": [
    "# Getting top 10 most freq picked champions\n",
    "pick_df = df(players['championid'])\n",
    "# pick_df.describe()\n",
    "pick_counts = players['championid'].value_counts(ascending=True).to_dict()\n",
    "sorting_dict = sorted(pick_counts.items(), key=operator.itemgetter(1))\n",
    "top_10_freq = nlargest(10, pick_counts, key=pick_counts.get)\n",
    "top_10_freq"
   ]
  },
  {
   "cell_type": "code",
   "execution_count": 21,
   "metadata": {},
   "outputs": [
    {
     "data": {
      "text/plain": [
       "['Yasuo',\n",
       " 'Fizz',\n",
       " 'Xayah',\n",
       " 'Lulu',\n",
       " 'Darius',\n",
       " 'Sejuani',\n",
       " 'Zed',\n",
       " 'Katarina',\n",
       " 'Fiora',\n",
       " 'Ivern']"
      ]
     },
     "execution_count": 21,
     "metadata": {},
     "output_type": "execute_result"
    }
   ],
   "source": [
    "#Getting top 10 most banned champion\n",
    "ban_df = df(sortedChampBan)\n",
    "# ban_df.describe()\n",
    "ban_counts = bans['championid'].value_counts(ascending=True).to_dict()\n",
    "sorting_dict = sorted(ban_counts.items(), key=operator.itemgetter(1))\n",
    "top_10_ban = nlargest(10, ban_counts, key=ban_counts.get)\n",
    "top_10_ban"
   ]
  },
  {
   "cell_type": "markdown",
   "metadata": {},
   "source": [
    "#### Visualization for champion picked and bans"
   ]
  },
  {
   "cell_type": "code",
   "execution_count": 22,
   "metadata": {
    "scrolled": true
   },
   "outputs": [
    {
     "data": {
      "text/plain": [
       "Text(0.5,1,'Champion Banned')"
      ]
     },
     "execution_count": 22,
     "metadata": {},
     "output_type": "execute_result"
    },
    {
     "data": {
      "image/png": "[encoded data removed]",
      "text/plain": [
       "<matplotlib.figure.Figure at 0x1a14758d68>"
      ]
     },
     "metadata": {},
     "output_type": "display_data"
    }
   ],
   "source": [
    "fig, (ax1, ax2) = plt.subplots(ncols=2, sharey=False, figsize=(15,30))\n",
    "plt.xticks(rotation=90)\n",
    "sns.countplot(y=sortedChampPick, data=bans, ax=ax1)\n",
    "sns.countplot(y=sortedChampBan, data=players, ax=ax2)\n",
    "ax1.set_title('Champion Picked')\n",
    "ax2.set_title('Champion Banned')\n"
   ]
  },
  {
   "cell_type": "markdown",
   "metadata": {},
   "source": [
    "#### Points to make about this graph\n",
    "\n",
    "1. Top ban champions are consistently mostly assassin and bruisers.\n",
    "\n",
    "2. Suprisingly, Lulu, and Xayah are on the top list. This can indicate that Xayah top ban was due to her recent released and the nerf hammer had not hit her.\n",
    "\n",
    "3. Top picked are mostly ADC.\n",
    "\n",
    "4. Yasuo is both most banned and picked. Whats wrong with these people, yasuo is dank af. "
   ]
  },
  {
   "cell_type": "code",
   "execution_count": 23,
   "metadata": {
    "collapsed": true,
    "scrolled": false
   },
   "outputs": [],
   "source": [
    "matches_not_eu = matches[(matches['region'] != 'EUW1')]"
   ]
  },
  {
   "cell_type": "markdown",
   "metadata": {},
   "source": [
    "### Finding freq of position of rank matches"
   ]
  },
  {
   "cell_type": "code",
   "execution_count": 24,
   "metadata": {},
   "outputs": [
    {
     "data": {
      "text/html": [
       "<div>\n",
       "<style>\n",
       "    .dataframe thead tr:only-child th {\n",
       "        text-align: right;\n",
       "    }\n",
       "\n",
       "    .dataframe thead th {\n",
       "        text-align: left;\n",
       "    }\n",
       "\n",
       "    .dataframe tbody tr th {\n",
       "        vertical-align: top;\n",
       "    }\n",
       "</style>\n",
       "<table border=\"1\" class=\"dataframe\">\n",
       "  <thead>\n",
       "    <tr style=\"text-align: right;\">\n",
       "      <th></th>\n",
       "      <th>position</th>\n",
       "      <th>count</th>\n",
       "    </tr>\n",
       "  </thead>\n",
       "  <tbody>\n",
       "    <tr>\n",
       "      <th>JUNGLE</th>\n",
       "      <td>373313</td>\n",
       "      <td>373313</td>\n",
       "    </tr>\n",
       "    <tr>\n",
       "      <th>MID</th>\n",
       "      <td>363367</td>\n",
       "      <td>363367</td>\n",
       "    </tr>\n",
       "    <tr>\n",
       "      <th>TOP</th>\n",
       "      <td>362233</td>\n",
       "      <td>362233</td>\n",
       "    </tr>\n",
       "    <tr>\n",
       "      <th>SUPPORT</th>\n",
       "      <td>339072</td>\n",
       "      <td>339072</td>\n",
       "    </tr>\n",
       "    <tr>\n",
       "      <th>ADC</th>\n",
       "      <td>339071</td>\n",
       "      <td>339071</td>\n",
       "    </tr>\n",
       "    <tr>\n",
       "      <th>UNKNOWN</th>\n",
       "      <td>57464</td>\n",
       "      <td>57464</td>\n",
       "    </tr>\n",
       "  </tbody>\n",
       "</table>\n",
       "</div>"
      ],
      "text/plain": [
       "         position   count\n",
       "JUNGLE     373313  373313\n",
       "MID        363367  363367\n",
       "TOP        362233  362233\n",
       "SUPPORT    339072  339072\n",
       "ADC        339071  339071\n",
       "UNKNOWN     57464   57464"
      ]
     },
     "execution_count": 24,
     "metadata": {},
     "output_type": "execute_result"
    }
   ],
   "source": [
    "role_total = players[['position']].apply(pd.value_counts)\n",
    "role_total['count'] = role_total[['position']].sum(axis=1)\n",
    "role_total"
   ]
  },
  {
   "cell_type": "code",
   "execution_count": 25,
   "metadata": {},
   "outputs": [
    {
     "data": {
      "text/plain": [
       "<matplotlib.axes._subplots.AxesSubplot at 0x1a27d4c710>"
      ]
     },
     "execution_count": 25,
     "metadata": {},
     "output_type": "execute_result"
    },
    {
     "data": {
      "image/png": "[encoded data removed]",
      "text/plain": [
       "<matplotlib.figure.Figure at 0x10c76c8d0>"
      ]
     },
     "metadata": {},
     "output_type": "display_data"
    }
   ],
   "source": [
    "sns.barplot(x=role_total.index,y=role_total['count'])"
   ]
  },
  {
   "cell_type": "markdown",
   "metadata": {},
   "source": [
    "### Finding Freq of first Objective for both side of the map red vs blue"
   ]
  },
  {
   "cell_type": "code",
   "execution_count": 26,
   "metadata": {
    "collapsed": true
   },
   "outputs": [],
   "source": [
    "blue_team_first_blood = team_stats[(team_stats['teamid'] == 'Blue') & (team_stats['firstblood'] == 1)]\n",
    "red_team_first_blood = team_stats[(team_stats['teamid'] == 'Red') & (team_stats['firstblood'] == 1)]"
   ]
  },
  {
   "cell_type": "code",
   "execution_count": 27,
   "metadata": {
    "collapsed": true
   },
   "outputs": [],
   "source": [
    "red_fb_count = red_team_first_blood.firstblood.count()\n",
    "blue_fb_count = blue_team_first_blood.firstblood.count()"
   ]
  },
  {
   "cell_type": "code",
   "execution_count": 28,
   "metadata": {
    "collapsed": true
   },
   "outputs": [],
   "source": [
    "# Replacing 'first' column with name indicating red or blue team got it first.\n",
    "\n",
    "team_col = ['firstblood', 'firsttower', 'firstinhib', 'firstbaron', 'firstdragon', 'firstharry']\n",
    "team_stats[(team_stats['teamid'] == 'Blue')] = team_stats[team_col].replace([0], 'Red').replace([1], 'Blue')\n",
    "team_stats[(team_stats['teamid'] == 'Red')] = team_stats[team_col].replace([0], 'Blue').replace([1], 'Red')"
   ]
  },
  {
   "cell_type": "code",
   "execution_count": 29,
   "metadata": {
    "collapsed": true
   },
   "outputs": [],
   "source": [
    "#Counting number of first total of team red and blue\n",
    "team_first = team_stats[['firstblood', 'firsttower', 'firstinhib', 'firstbaron', 'firstdragon', 'firstharry']]\n",
    "firstTotal = team_first.apply(pd.value_counts)"
   ]
  },
  {
   "cell_type": "code",
   "execution_count": 31,
   "metadata": {},
   "outputs": [
    {
     "data": {
      "text/html": [
       "<div>\n",
       "<style>\n",
       "    .dataframe thead tr:only-child th {\n",
       "        text-align: right;\n",
       "    }\n",
       "\n",
       "    .dataframe thead th {\n",
       "        text-align: left;\n",
       "    }\n",
       "\n",
       "    .dataframe tbody tr th {\n",
       "        vertical-align: top;\n",
       "    }\n",
       "</style>\n",
       "<table border=\"1\" class=\"dataframe\">\n",
       "  <thead>\n",
       "    <tr style=\"text-align: right;\">\n",
       "      <th></th>\n",
       "      <th>firstblood</th>\n",
       "      <th>firsttower</th>\n",
       "      <th>firstinhib</th>\n",
       "      <th>firstbaron</th>\n",
       "      <th>firstdragon</th>\n",
       "      <th>firstharry</th>\n",
       "    </tr>\n",
       "  </thead>\n",
       "  <tbody>\n",
       "    <tr>\n",
       "      <th>Blue</th>\n",
       "      <td>188731</td>\n",
       "      <td>189847</td>\n",
       "      <td>189280</td>\n",
       "      <td>179133</td>\n",
       "      <td>183785</td>\n",
       "      <td>187102</td>\n",
       "    </tr>\n",
       "    <tr>\n",
       "      <th>Red</th>\n",
       "      <td>179407</td>\n",
       "      <td>178291</td>\n",
       "      <td>178858</td>\n",
       "      <td>189005</td>\n",
       "      <td>184353</td>\n",
       "      <td>181036</td>\n",
       "    </tr>\n",
       "  </tbody>\n",
       "</table>\n",
       "</div>"
      ],
      "text/plain": [
       "      firstblood  firsttower  firstinhib  firstbaron  firstdragon  firstharry\n",
       "Blue      188731      189847      189280      179133       183785      187102\n",
       "Red       179407      178291      178858      189005       184353      181036"
      ]
     },
     "execution_count": 31,
     "metadata": {},
     "output_type": "execute_result"
    }
   ],
   "source": [
    "firstTotal"
   ]
  },
  {
   "cell_type": "markdown",
   "metadata": {},
   "source": [
    "#### Visualization of first objective comparison for both team"
   ]
  },
  {
   "cell_type": "code",
   "execution_count": 30,
   "metadata": {},
   "outputs": [
    {
     "data": {
      "image/png": "[encoded data removed]",
      "text/plain": [
       "<matplotlib.figure.Figure at 0x1a1878c048>"
      ]
     },
     "metadata": {},
     "output_type": "display_data"
    }
   ],
   "source": [
    "#using bar graph to plot freq of first for both team\n",
    "\n",
    "plotColors = ['#3498DB','#E74C3C','#BDC3C7']\n",
    "firstLabels = ['First Blood','First Tower', 'First Inhibitor', 'First Baron', 'First Dragon', 'First Rift Herald']\n",
    "nrows, ncols = 2,3\n",
    "fig = plt.figure(figsize=(15,10))\n",
    "for i in range(1,7):\n",
    "    ax = fig.add_subplot(nrows,ncols,i)\n",
    "    sns.barplot(x=firstTotal.index,y=firstTotal[firstTotal.columns[i-1]],palette=plotColors)\n",
    "    ax.set_ylabel('Count')\n",
    "    ax.yaxis.set_ticklabels([])\n",
    "    ax.set_title(firstLabels[i-1])"
   ]
  },
  {
   "cell_type": "markdown",
   "metadata": {},
   "source": [
    "#### Points interesting about this graph\n",
    "\n",
    "##### QUESTION: Can ranked matchmaking be assumed to be unbiased (or adjusted for red-side advantage)?\n",
    "\n",
    "1. In a large dataset, plots are mostly even.\n",
    "\n",
    "2. Suprising to see that red team have more control over baron. One would assume it would be easier for blue to do baron first due to the the position of baron pit's door is facing blue side. However, it could be the fact that it is closer to red side or even the position of baron pit make it easier to steal.\n",
    "\n",
    "3. First blood and tower leans toward blue side. Not really sure why this is a cause because both side should be able to have an equal chance of getting first blood. One assumption could be that jungler tend to gank top alot more during early game. Red Team top side have more vunerability of getting kill by jungler because of tri-bush. Harder to gank bottom side via tri-bush than top side.\n",
    "\n",
    "4. The last 2 plot of first herald and first dragon are not suprising. Red side should have advantage over dragon early while herald is favour more for blue due to pit positions. "
   ]
  },
  {
   "cell_type": "code",
   "execution_count": null,
   "metadata": {
    "collapsed": true
   },
   "outputs": [],
   "source": []
  }
 ],
 "metadata": {
  "kernelspec": {
   "display_name": "Python 3",
   "language": "python",
   "name": "python3"
  },
  "language_info": {
   "codemirror_mode": {
    "name": "ipython",
    "version": 3
   },
   "file_extension": ".py",
   "mimetype": "text/x-python",
   "name": "python",
   "nbconvert_exporter": "python",
   "pygments_lexer": "ipython3",
   "version": "3.6.3"
  }
 },
 "nbformat": 4,
 "nbformat_minor": 2
}
